{
 "cells": [
  {
   "cell_type": "markdown",
   "metadata": {},
   "source": [
    "# CNN für NBA Spielererkennung\n",
    "\n",
    "### Eigener Use Case / Robert Kurtz / July 2023\n",
    "\n",
    "- Including Lebron James, Steph Curry, Giannis Antentokounmpo, Dennis Schröder &  Franz Wagner"
   ]
  },
  {
   "cell_type": "markdown",
   "metadata": {},
   "source": [
    "## Idee:\n",
    "\n",
    "Datensammlung: Ich suche Bilder der 5 Basketballspieler (Steph, Lebron, Giannis, Franz & Dennis Schröder) aus dem Internet oder anderen Quellen. Ich sorge dafür, dass ich genügend Bilder für Training und Test habe und achte darauf, dass die Bilder eine ausreichend hohe Auflösung haben und die Spieler gut sichtbar sind.\n",
    "\n",
    "Daten vorbereiten: Ich organisiere die gesammelten Bilder in separate Ordner für jede Spielerkategorie. Ich teile die Daten in einen Trainings- und einen Testdatensatz auf und passe die Größe der Bilder an, um eine einheitliche Eingabegröße für das CNN-Modell zu gewährleisten.\n",
    "\n",
    "CNN-Modell erstellen: Ich verwende TensorFlow oder Keras, um das CNN-Modell zu erstellen. Ich definiere die Architektur des Modells, einschließlich Convolutional Layers, Pooling Layers, Fully Connected Layers usw. Dabei sorge ich dafür, dass das Modell ausreichend komplex ist, um die Unterschiede zwischen den Spielern zu erkennen.\n",
    "\n",
    "Modelltraining: Ich trainiere das CNN-Modell mit den vorbereiteten Trainingsdaten. Dazu wähle ich eine angemessene Anzahl von Epochen und eine passende Batch-Größe aus, um das Modell zu trainieren. Während des Trainings überwache ich den Fortschritt anhand von Metriken wie Genauigkeit und Verlust.\n",
    "\n",
    "Modellbewertung: Nachdem das Modell trainiert wurde, werte ich es mit den vorbereiteten Testdaten aus, um seine Leistung zu bewerten. Ich überprüfe die Genauigkeit des Modells und analysiere, wie gut es die Spielerklassen erkennt.\n",
    "\n",
    "Feinabstimmung (optional): Wenn das Modell nicht die gewünschte Leistung erzielt, kann ich versuchen, die Hyperparameter zu optimieren oder das Modell feinabstimmen, um die Ergebnisse zu verbessern.\n",
    "\n",
    "Anwendung: Schließlich wende ich das trainierte CNN-Modell auf neue, nicht verwendete Bilder der 5 Basketballspieler an, um zu sehen, wie gut es sie klassifiziert."
   ]
  },
  {
   "cell_type": "code",
   "execution_count": null,
   "metadata": {},
   "outputs": [],
   "source": [
    "import os\n",
    "import numpy as np\n",
    "import tensorflow as tf\n",
    "from tensorflow.keras.preprocessing.image import ImageDataGenerator\n",
    "from tensorflow.keras.applications import MobileNetV2\n",
    "from tensorflow.keras.layers import Dense, GlobalAveragePooling2D\n",
    "from tensorflow.keras.models import Model"
   ]
  },
  {
   "cell_type": "code",
   "execution_count": 11,
   "metadata": {},
   "outputs": [
    {
     "name": "stdout",
     "output_type": "stream",
     "text": [
      "Found 60 images belonging to 5 classes.\n",
      "WARNING:tensorflow:`input_shape` is undefined or non-square, or `rows` is not in [96, 128, 160, 192, 224]. Weights for input shape (224, 224) will be loaded as the default.\n",
      "Epoch 1/8\n",
      "6/6 [==============================] - 6s 597ms/step - loss: 2.9467 - accuracy: 0.2833\n",
      "Epoch 2/8\n",
      "6/6 [==============================] - 3s 593ms/step - loss: 1.9910 - accuracy: 0.4833\n",
      "Epoch 3/8\n",
      "6/6 [==============================] - 3s 553ms/step - loss: 1.1795 - accuracy: 0.4833\n",
      "Epoch 4/8\n",
      "6/6 [==============================] - 3s 580ms/step - loss: 0.6811 - accuracy: 0.7167\n",
      "Epoch 5/8\n",
      "6/6 [==============================] - 3s 358ms/step - loss: 0.4807 - accuracy: 0.8500\n",
      "Epoch 6/8\n",
      "6/6 [==============================] - 3s 583ms/step - loss: 0.3968 - accuracy: 0.9000\n",
      "Epoch 7/8\n",
      "6/6 [==============================] - 3s 563ms/step - loss: 0.3196 - accuracy: 0.9000\n",
      "Epoch 8/8\n",
      "6/6 [==============================] - 3s 599ms/step - loss: 0.3172 - accuracy: 0.9000\n"
     ]
    },
    {
     "data": {
      "text/plain": [
       "<keras.src.callbacks.History at 0x136bae170>"
      ]
     },
     "execution_count": 11,
     "metadata": {},
     "output_type": "execute_result"
    }
   ],
   "source": [
    "# Pfade zu den Datenordnern\n",
    "data_dir = '/Users/robertkurtz/Desktop/DataScience/Datasets/AA Spielererkennung/data'  # Passe den Pfad an\n",
    "train_data_dir = os.path.join(data_dir, 'train')\n",
    "test_data_dir = os.path.join(data_dir, 'test')\n",
    "\n",
    "# Parameter für Training\n",
    "img_width, img_height = 224, 224\n",
    "batch_size = 10\n",
    "num_epochs = 8\n",
    "\n",
    "# Erstelle einen ImageDataGenerator für Data Augmentation\n",
    "datagen = ImageDataGenerator(\n",
    "    rescale=1.0/255.0,\n",
    "    rotation_range=20,\n",
    "    width_shift_range=0.2,\n",
    "    height_shift_range=0.2,\n",
    "    shear_range=0.2,\n",
    "    zoom_range=0.2,\n",
    "    horizontal_flip=True,\n",
    "    fill_mode='nearest')\n",
    "\n",
    "# Passe Data Augmentation auf den Trainingsdatensatz an\n",
    "train_generator = datagen.flow_from_directory(\n",
    "    train_data_dir,\n",
    "    target_size=(img_width, img_height),\n",
    "    batch_size=batch_size,\n",
    "    class_mode='categorical')\n",
    "\n",
    "# Lade das vortrainierte MobileNetV2-Modell ohne den Fully Connected Layer\n",
    "base_model = MobileNetV2(weights='imagenet', include_top=False)\n",
    "\n",
    "# Füge einen eigenen Fully Connected Layer hinzu\n",
    "x = base_model.output\n",
    "x = GlobalAveragePooling2D()(x)\n",
    "x = Dense(1024, activation='relu')(x)\n",
    "predictions = Dense(5, activation='softmax')(x)\n",
    "\n",
    "# Erstelle das Modell\n",
    "model = Model(inputs=base_model.input, outputs=predictions)\n",
    "\n",
    "# Friere die Gewichte des vortrainierten Teils des Modells ein\n",
    "for layer in base_model.layers:\n",
    "    layer.trainable = False\n",
    "\n",
    "# Kompiliere das Modell\n",
    "model.compile(optimizer='adam', loss='categorical_crossentropy', metrics=['accuracy'])\n"
   ]
  },
  {
   "cell_type": "markdown",
   "metadata": {},
   "source": [
    "## Training"
   ]
  },
  {
   "cell_type": "code",
   "execution_count": null,
   "metadata": {},
   "outputs": [],
   "source": [
    "# Training des Modells\n",
    "model.fit(\n",
    "    train_generator,\n",
    "    steps_per_epoch=train_generator.samples // batch_size,\n",
    "    epochs=num_epochs)"
   ]
  },
  {
   "cell_type": "markdown",
   "metadata": {},
   "source": [
    "## Testing"
   ]
  },
  {
   "cell_type": "code",
   "execution_count": 12,
   "metadata": {},
   "outputs": [
    {
     "name": "stdout",
     "output_type": "stream",
     "text": [
      "Found 15 images belonging to 5 classes.\n",
      "1/1 [==============================] - 1s 1s/step - loss: 0.8181 - accuracy: 0.8000\n",
      "Test Loss: 0.8181015849113464, Test Accuracy: 0.800000011920929\n"
     ]
    }
   ],
   "source": [
    "# Passe Data Augmentation auf den Testdatensatz an\n",
    "test_generator = datagen.flow_from_directory(\n",
    "    test_data_dir,\n",
    "    target_size=(img_width, img_height),\n",
    "    batch_size=batch_size,\n",
    "    class_mode='categorical',\n",
    "    shuffle=False)  # Achtung: shuffle auf False setzen, damit die Reihenfolge beibehalten wird\n",
    "\n",
    "# Evaluierung des Modells mit den Testdaten\n",
    "test_loss, test_accuracy = model.evaluate(\n",
    "    test_generator,\n",
    "    steps=test_generator.samples // batch_size)\n",
    "\n",
    "print(f\"Test Loss: {test_loss}, Test Accuracy: {test_accuracy}\")"
   ]
  },
  {
   "cell_type": "markdown",
   "metadata": {},
   "source": [
    "## Erkennst du mich? Ich bin's Dennis!\n",
    "\n",
    "- Test auf einem zusätzlichen Bild"
   ]
  },
  {
   "cell_type": "code",
   "execution_count": 15,
   "metadata": {},
   "outputs": [
    {
     "name": "stdout",
     "output_type": "stream",
     "text": [
      "1/1 [==============================] - 0s 42ms/step\n",
      "Erkannter Spieler: Dennis Schröder\n"
     ]
    }
   ],
   "source": [
    "from tensorflow.keras.preprocessing import image\n",
    "\n",
    "# Pfade zu den Dateien und Bildern\n",
    "test_image_path = '/Users/robertkurtz/Desktop/DataScience/Datasets/AA Spielererkennung/data/testX/DennisX.jpeg'  # Passe den Pfad entsprechend an\n",
    "class_names = ['Dennis Schröder', 'Franz Wagner', 'Giannis Antetokounmpo', 'LeBron James', 'Stephen Curry']\n",
    "\n",
    "# Lade das Bild und passe es an\n",
    "img = image.load_img(test_image_path, target_size=(img_width, img_height))\n",
    "img_array = image.img_to_array(img)\n",
    "img_array = img_array / 255.0  # Normalisiere die Pixelwerte auf den Bereich [0, 1]\n",
    "img_array = np.expand_dims(img_array, axis=0)  # Füge eine Batch-Dimension hinzu\n",
    "\n",
    "# Mache die Vorhersage\n",
    "prediction = model.predict(img_array)\n",
    "predicted_class = np.argmax(prediction)  # Finde den Index des höchsten Wahrscheinlichkeitswerts\n",
    "\n",
    "# Gebe den erkannten Spielernamen aus\n",
    "print(f\"Erkannter Spieler: {class_names[predicted_class]}\")\n"
   ]
  },
  {
   "cell_type": "code",
   "execution_count": null,
   "metadata": {},
   "outputs": [],
   "source": []
  }
 ],
 "metadata": {
  "kernelspec": {
   "display_name": "Python 3",
   "language": "python",
   "name": "python3"
  },
  "language_info": {
   "codemirror_mode": {
    "name": "ipython",
    "version": 3
   },
   "file_extension": ".py",
   "mimetype": "text/x-python",
   "name": "python",
   "nbconvert_exporter": "python",
   "pygments_lexer": "ipython3",
   "version": "3.10.6"
  },
  "orig_nbformat": 4
 },
 "nbformat": 4,
 "nbformat_minor": 2
}
